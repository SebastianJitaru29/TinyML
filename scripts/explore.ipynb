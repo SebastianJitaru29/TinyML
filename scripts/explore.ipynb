{
 "cells": [
  {
   "cell_type": "code",
   "execution_count": 1,
   "metadata": {},
   "outputs": [],
   "source": [
    "from move import Mover, BASE, SHOULDER, ELBOW, WRIST_VERT, WRIST_ROT, GRIPPER # Import indices\n",
    "import time\n",
    "\n",
    "\n",
    "SERIAL_PORT = '/dev/ttyACM0'\n",
    "BAUD_RATE = 115200 "
   ]
  },
  {
   "cell_type": "code",
   "execution_count": 2,
   "metadata": {},
   "outputs": [
    {
     "name": "stdout",
     "output_type": "stream",
     "text": [
      "Mover initialized for port /dev/ttyACM0 at 115200 baud.\n",
      "Attempting to connect to /dev/ttyACM0...\n",
      "Successfully connected to /dev/ttyACM0.\n",
      "Waiting a few seconds for Arduino to initialize...\n",
      "Attempting to home the arm...\n",
      "Sending command: H\n",
      "Received response: OK\n",
      "Arm homed successfully.\n"
     ]
    },
    {
     "data": {
      "text/plain": [
       "True"
      ]
     },
     "execution_count": 2,
     "metadata": {},
     "output_type": "execute_result"
    }
   ],
   "source": [
    "mover = Mover(port=SERIAL_PORT,baud_rate=BAUD_RATE)\n",
    "mover.connect()"
   ]
  },
  {
   "cell_type": "code",
   "execution_count": null,
   "metadata": {},
   "outputs": [
    {
     "name": "stdout",
     "output_type": "stream",
     "text": [
      "Sending command: P90,90,100,90,90,73,40\n",
      "Received response: OK\n",
      "Shoulder move successful.\n",
      "Current state: [90, 90, 100, 90, 90, 73]\n"
     ]
    }
   ],
   "source": [
    "if mover.go_home():\n",
    "            print(\"Shoulder move successful.\")\n",
    "            print(\"Current state:\", mover.current_angles)\n",
    "else:\n",
    "    print(\"Shoulder move failed.\")\n",
    "time.sleep(2) # Wait for move to complete"
   ]
  }
 ],
 "metadata": {
  "kernelspec": {
   "display_name": ".braccio_venv",
   "language": "python",
   "name": "python3"
  },
  "language_info": {
   "codemirror_mode": {
    "name": "ipython",
    "version": 3
   },
   "file_extension": ".py",
   "mimetype": "text/x-python",
   "name": "python",
   "nbconvert_exporter": "python",
   "pygments_lexer": "ipython3",
   "version": "3.10.12"
  }
 },
 "nbformat": 4,
 "nbformat_minor": 2
}
